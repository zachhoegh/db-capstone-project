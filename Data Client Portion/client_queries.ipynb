{
 "cells": [
  {
   "cell_type": "code",
   "execution_count": null,
   "metadata": {},
   "outputs": [],
   "source": [
    "import mysql.connector as connector\n",
    "\n",
    "connection = connector.connect(\n",
    "    host='localhost',\n",
    "    user='root',\n",
    "    password='', #password\n",
    "    db='littlelemondb'\n",
    ")\n",
    "\n"
   ]
  },
  {
   "cell_type": "code",
   "execution_count": 4,
   "metadata": {},
   "outputs": [
    {
     "name": "stdout",
     "output_type": "stream",
     "text": [
      "('Tables_in_littlelemondb',)\n",
      "('bookings',)\n",
      "('customers',)\n",
      "('menu',)\n",
      "('orders',)\n",
      "('ordersview',)\n",
      "('staff',)\n"
     ]
    }
   ],
   "source": [
    "show_tables_query = 'SHOW TABLES'\n",
    "cursor = connection.cursor()\n",
    "cursor.execute(show_tables_query)\n",
    "tables = cursor.fetchall()\n",
    "print(cursor.column_names)\n",
    "for table in tables:\n",
    "    print(table)"
   ]
  },
  {
   "cell_type": "code",
   "execution_count": 6,
   "metadata": {},
   "outputs": [
    {
     "name": "stdout",
     "output_type": "stream",
     "text": [
      "('CustomerFullName', 'PhoneNumber')\n"
     ]
    }
   ],
   "source": [
    "promo_query = \"SELECT Customers.CustomerFullName, Customers.PhoneNumber FROM Customers Inner JOIN Orders ON Customers.CustomerID = Orders.CustomerID WHERE Orders.TotalCost > 60\"\n",
    "cursor.execute(promo_query)\n",
    "promo = cursor.fetchall()\n",
    "print(cursor.column_names)\n",
    "for customer in promo:\n",
    "    print(customer)"
   ]
  }
 ],
 "metadata": {
  "kernelspec": {
   "display_name": "Python 3",
   "language": "python",
   "name": "python3"
  },
  "language_info": {
   "codemirror_mode": {
    "name": "ipython",
    "version": 3
   },
   "file_extension": ".py",
   "mimetype": "text/x-python",
   "name": "python",
   "nbconvert_exporter": "python",
   "pygments_lexer": "ipython3",
   "version": "3.11.9"
  }
 },
 "nbformat": 4,
 "nbformat_minor": 2
}
